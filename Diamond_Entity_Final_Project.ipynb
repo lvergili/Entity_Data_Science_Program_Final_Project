{
 "cells": [
  {
   "cell_type": "markdown",
   "id": "345f95c8-a037-4b9d-9366-9fc1d1089a12",
   "metadata": {},
   "source": [
    "## Entity Data Science Program Final Project\n",
    "\n",
    "This is for Entity Data Science Program Final Project. We are analyzing diamonds data set to figure out if there is a relationship between clarity/quality of diamond and price of diamond with controlling color of diamond and how depth of diamond impacts the carat of diamond. \n",
    "\n",
    "As it can be seen there two part ofs analysis. Answering the first question, we are going to perform ANCOVA(Analysis of Covariance) to figure out the relationship between clarity/quality of diamond and price of diamond with controlling color of diamond. Our independent and dependent variables are:\n",
    "\n",
    "Independent Variables:\n",
    "\n",
    "                      Clarity: Categorical variable with 8 levels\n",
    "                      Color: Categorical variable with 7 levels\n",
    "\n",
    "Dependent Variable:\n",
    "                      \n",
    "                      Price: Continuous variable\n",
    "                      \n",
    "                      \n",
    "Second part of the analysis, we are going to investigate how depth of diamond impacts the carat of diamond and we are going to perform lineer regression. Our variables are:\n",
    "\n",
    "Independent Variable:\n",
    "\n",
    "                      Depth: Continuous variable\n",
    "                      \n",
    "Dependent Variable:\n",
    "\n",
    "                      Carat: Continuous variable\n",
    "\n"
   ]
  },
  {
   "cell_type": "markdown",
   "id": "31c74a51-e07d-48aa-9521-621a4c3a229f",
   "metadata": {},
   "source": [
    "**Importing Libraries:**"
   ]
  },
  {
   "cell_type": "code",
   "execution_count": 2,
   "id": "4207b76e-e64e-40ed-86e0-2a3d45663c37",
   "metadata": {},
   "outputs": [],
   "source": [
    "import numpy as np\n",
    "import pandas as pd\n",
    "from pingouin import ancova #pip install pingouin before importing the library.\n",
    "from sklearn.linear_model import LinearRegression"
   ]
  },
  {
   "cell_type": "markdown",
   "id": "31d8a24e-fdbc-47bb-a871-309454f825fe",
   "metadata": {},
   "source": [
    "**Loading Data:**"
   ]
  },
  {
   "cell_type": "code",
   "execution_count": 4,
   "id": "47cc086e-77b0-460c-a18d-4ed44e09b428",
   "metadata": {},
   "outputs": [],
   "source": [
    "diamond=pd.read_csv(\"/Users/nukhet/Entity_Final_Project/Diamonds.csv\")"
   ]
  },
  {
   "cell_type": "markdown",
   "id": "3788b391-80ae-4780-956d-4238e43a1602",
   "metadata": {},
   "source": [
    "**Exploring Data**"
   ]
  },
  {
   "cell_type": "code",
   "execution_count": 5,
   "id": "e1577943-752d-4725-8c32-201f8319bbac",
   "metadata": {},
   "outputs": [
    {
     "data": {
      "text/html": [
       "<div>\n",
       "<style scoped>\n",
       "    .dataframe tbody tr th:only-of-type {\n",
       "        vertical-align: middle;\n",
       "    }\n",
       "\n",
       "    .dataframe tbody tr th {\n",
       "        vertical-align: top;\n",
       "    }\n",
       "\n",
       "    .dataframe thead th {\n",
       "        text-align: right;\n",
       "    }\n",
       "</style>\n",
       "<table border=\"1\" class=\"dataframe\">\n",
       "  <thead>\n",
       "    <tr style=\"text-align: right;\">\n",
       "      <th></th>\n",
       "      <th>Unnamed: 0</th>\n",
       "      <th>carat</th>\n",
       "      <th>cut</th>\n",
       "      <th>color</th>\n",
       "      <th>clarity</th>\n",
       "      <th>depth</th>\n",
       "      <th>table</th>\n",
       "      <th>price</th>\n",
       "      <th>x</th>\n",
       "      <th>y</th>\n",
       "      <th>z</th>\n",
       "    </tr>\n",
       "  </thead>\n",
       "  <tbody>\n",
       "    <tr>\n",
       "      <th>0</th>\n",
       "      <td>0</td>\n",
       "      <td>0.23</td>\n",
       "      <td>Ideal</td>\n",
       "      <td>E</td>\n",
       "      <td>SI2</td>\n",
       "      <td>61.5</td>\n",
       "      <td>55.0</td>\n",
       "      <td>326</td>\n",
       "      <td>3.95</td>\n",
       "      <td>3.98</td>\n",
       "      <td>2.43</td>\n",
       "    </tr>\n",
       "    <tr>\n",
       "      <th>1</th>\n",
       "      <td>1</td>\n",
       "      <td>0.21</td>\n",
       "      <td>Premium</td>\n",
       "      <td>E</td>\n",
       "      <td>SI1</td>\n",
       "      <td>59.8</td>\n",
       "      <td>61.0</td>\n",
       "      <td>326</td>\n",
       "      <td>3.89</td>\n",
       "      <td>3.84</td>\n",
       "      <td>2.31</td>\n",
       "    </tr>\n",
       "    <tr>\n",
       "      <th>2</th>\n",
       "      <td>2</td>\n",
       "      <td>0.23</td>\n",
       "      <td>Good</td>\n",
       "      <td>E</td>\n",
       "      <td>VS1</td>\n",
       "      <td>56.9</td>\n",
       "      <td>65.0</td>\n",
       "      <td>327</td>\n",
       "      <td>4.05</td>\n",
       "      <td>4.07</td>\n",
       "      <td>2.31</td>\n",
       "    </tr>\n",
       "    <tr>\n",
       "      <th>3</th>\n",
       "      <td>3</td>\n",
       "      <td>0.29</td>\n",
       "      <td>Premium</td>\n",
       "      <td>I</td>\n",
       "      <td>VS2</td>\n",
       "      <td>62.4</td>\n",
       "      <td>58.0</td>\n",
       "      <td>334</td>\n",
       "      <td>4.20</td>\n",
       "      <td>4.23</td>\n",
       "      <td>2.63</td>\n",
       "    </tr>\n",
       "    <tr>\n",
       "      <th>4</th>\n",
       "      <td>4</td>\n",
       "      <td>0.31</td>\n",
       "      <td>Good</td>\n",
       "      <td>J</td>\n",
       "      <td>SI2</td>\n",
       "      <td>63.3</td>\n",
       "      <td>58.0</td>\n",
       "      <td>335</td>\n",
       "      <td>4.34</td>\n",
       "      <td>4.35</td>\n",
       "      <td>2.75</td>\n",
       "    </tr>\n",
       "  </tbody>\n",
       "</table>\n",
       "</div>"
      ],
      "text/plain": [
       "   Unnamed: 0  carat      cut color clarity  depth  table  price     x     y  \\\n",
       "0           0   0.23    Ideal     E     SI2   61.5   55.0    326  3.95  3.98   \n",
       "1           1   0.21  Premium     E     SI1   59.8   61.0    326  3.89  3.84   \n",
       "2           2   0.23     Good     E     VS1   56.9   65.0    327  4.05  4.07   \n",
       "3           3   0.29  Premium     I     VS2   62.4   58.0    334  4.20  4.23   \n",
       "4           4   0.31     Good     J     SI2   63.3   58.0    335  4.34  4.35   \n",
       "\n",
       "      z  \n",
       "0  2.43  \n",
       "1  2.31  \n",
       "2  2.31  \n",
       "3  2.63  \n",
       "4  2.75  "
      ]
     },
     "execution_count": 5,
     "metadata": {},
     "output_type": "execute_result"
    }
   ],
   "source": [
    "diamond.head()"
   ]
  },
  {
   "cell_type": "code",
   "execution_count": 6,
   "id": "c5547078-3a7d-4e3b-9482-8e95131d3982",
   "metadata": {},
   "outputs": [
    {
     "name": "stdout",
     "output_type": "stream",
     "text": [
      "<class 'pandas.core.frame.DataFrame'>\n",
      "RangeIndex: 53940 entries, 0 to 53939\n",
      "Data columns (total 11 columns):\n",
      " #   Column      Non-Null Count  Dtype  \n",
      "---  ------      --------------  -----  \n",
      " 0   Unnamed: 0  53940 non-null  int64  \n",
      " 1   carat       53940 non-null  float64\n",
      " 2   cut         53940 non-null  object \n",
      " 3   color       53940 non-null  object \n",
      " 4   clarity     53940 non-null  object \n",
      " 5   depth       53940 non-null  float64\n",
      " 6   table       53940 non-null  float64\n",
      " 7   price       53940 non-null  int64  \n",
      " 8   x           53940 non-null  float64\n",
      " 9   y           53940 non-null  float64\n",
      " 10  z           53940 non-null  float64\n",
      "dtypes: float64(6), int64(2), object(3)\n",
      "memory usage: 4.5+ MB\n"
     ]
    }
   ],
   "source": [
    "diamond.info()"
   ]
  },
  {
   "cell_type": "code",
   "execution_count": 8,
   "id": "4d88fe8a-64e3-4c17-8290-3ae988ce0ede",
   "metadata": {},
   "outputs": [
    {
     "data": {
      "text/plain": [
       "array(['SI2', 'SI1', 'VS1', 'VS2', 'VVS2', 'VVS1', 'I1', 'IF'],\n",
       "      dtype=object)"
      ]
     },
     "execution_count": 8,
     "metadata": {},
     "output_type": "execute_result"
    }
   ],
   "source": [
    "diamond.clarity.unique()"
   ]
  },
  {
   "cell_type": "code",
   "execution_count": 9,
   "id": "13b8e12d-d6b5-48ed-949c-e578bb91562d",
   "metadata": {},
   "outputs": [
    {
     "data": {
      "text/plain": [
       "array(['E', 'I', 'J', 'H', 'F', 'G', 'D'], dtype=object)"
      ]
     },
     "execution_count": 9,
     "metadata": {},
     "output_type": "execute_result"
    }
   ],
   "source": [
    "diamond.color.unique()"
   ]
  },
  {
   "cell_type": "code",
   "execution_count": 10,
   "id": "a5da8ad2-70b3-4ccd-b20c-34ac2b3fdf36",
   "metadata": {},
   "outputs": [
    {
     "data": {
      "text/plain": [
       "326"
      ]
     },
     "execution_count": 10,
     "metadata": {},
     "output_type": "execute_result"
    }
   ],
   "source": [
    "diamond.price.min()"
   ]
  },
  {
   "cell_type": "code",
   "execution_count": 11,
   "id": "46d01140-8fb0-4055-a10b-e8ae0c8e6a5b",
   "metadata": {},
   "outputs": [
    {
     "data": {
      "text/plain": [
       "18823"
      ]
     },
     "execution_count": 11,
     "metadata": {},
     "output_type": "execute_result"
    }
   ],
   "source": [
    "diamond.price.max()"
   ]
  },
  {
   "cell_type": "code",
   "execution_count": 12,
   "id": "00ed2400-564b-4f9b-ab79-9aa53dfde25e",
   "metadata": {},
   "outputs": [
    {
     "data": {
      "text/plain": [
       "43.0"
      ]
     },
     "execution_count": 12,
     "metadata": {},
     "output_type": "execute_result"
    }
   ],
   "source": [
    "diamond.depth.min()"
   ]
  },
  {
   "cell_type": "code",
   "execution_count": 13,
   "id": "6de37af3-11f5-4775-b56e-5e8561a8e264",
   "metadata": {},
   "outputs": [
    {
     "data": {
      "text/plain": [
       "79.0"
      ]
     },
     "execution_count": 13,
     "metadata": {},
     "output_type": "execute_result"
    }
   ],
   "source": [
    "diamond.depth.max()"
   ]
  },
  {
   "cell_type": "code",
   "execution_count": 14,
   "id": "d5b79257-a0e7-4650-8205-0ea9e14632ef",
   "metadata": {},
   "outputs": [
    {
     "data": {
      "text/plain": [
       "0.2"
      ]
     },
     "execution_count": 14,
     "metadata": {},
     "output_type": "execute_result"
    }
   ],
   "source": [
    "diamond.carat.min()"
   ]
  },
  {
   "cell_type": "code",
   "execution_count": 15,
   "id": "424644f5-03dc-49cb-a356-0d7e41cef839",
   "metadata": {},
   "outputs": [
    {
     "data": {
      "text/plain": [
       "5.01"
      ]
     },
     "execution_count": 15,
     "metadata": {},
     "output_type": "execute_result"
    }
   ],
   "source": [
    "diamond.carat.max()"
   ]
  },
  {
   "cell_type": "markdown",
   "id": "28447d58-fd0d-4c4b-b096-ef7c300e4885",
   "metadata": {},
   "source": [
    "**Carat Weight:** 0.2 - 5.01\n",
    "\n",
    "**Price in US dollars:** 326 - 18823\n",
    "\n",
    "**Color:** from J (Worst) to D (Best)\n",
    "\n",
    "**Clarity:** I1 (Worst), SI2, SI1, VS2, VS1, VVS2, VVS1, IF (Best)\n",
    "\n",
    "**Depth:** 43 - 79\n",
    "\n",
    " Depth is calculated by total depth percentage = z / mean(x, y) = 2 * z / (x + y)\n",
    " \n",
    " x length in mm\n",
    "\n",
    " y width in mm \n",
    "\n",
    " z depth in mm \n",
    "\n"
   ]
  },
  {
   "cell_type": "markdown",
   "id": "44aff334-ea88-45f8-8b82-e839b2107dd6",
   "metadata": {},
   "source": [
    "**Data Wrangling**"
   ]
  },
  {
   "cell_type": "markdown",
   "id": "0e278d57-0747-47c8-97db-f73b594e1c02",
   "metadata": {},
   "source": [
    "Let's count how many missing values how many missing values each columns have."
   ]
  },
  {
   "cell_type": "code",
   "execution_count": 20,
   "id": "d3c2b234-bb22-4b13-bb73-7f8814175905",
   "metadata": {},
   "outputs": [
    {
     "data": {
      "text/plain": [
       "Unnamed: 0    0\n",
       "carat         0\n",
       "cut           0\n",
       "color         0\n",
       "clarity       0\n",
       "depth         0\n",
       "table         0\n",
       "price         0\n",
       "x             0\n",
       "y             0\n",
       "z             0\n",
       "dtype: int64"
      ]
     },
     "execution_count": 20,
     "metadata": {},
     "output_type": "execute_result"
    }
   ],
   "source": [
    "diamond.isna().sum()"
   ]
  },
  {
   "cell_type": "markdown",
   "id": "1f3743fc-8177-4bc7-b2fe-6c05478f446b",
   "metadata": {},
   "source": [
    "As it can be seen data is clean which means there is no missing values(NA's) on diamond data.\n",
    "\n",
    "For ANCOVA "
   ]
  },
  {
   "cell_type": "code",
   "execution_count": null,
   "id": "a460ace0-1a8d-414e-9058-e525b2f7c9b1",
   "metadata": {},
   "outputs": [],
   "source": []
  }
 ],
 "metadata": {
  "kernelspec": {
   "display_name": "Python 3 (ipykernel)",
   "language": "python",
   "name": "python3"
  },
  "language_info": {
   "codemirror_mode": {
    "name": "ipython",
    "version": 3
   },
   "file_extension": ".py",
   "mimetype": "text/x-python",
   "name": "python",
   "nbconvert_exporter": "python",
   "pygments_lexer": "ipython3",
   "version": "3.9.10"
  }
 },
 "nbformat": 4,
 "nbformat_minor": 5
}
